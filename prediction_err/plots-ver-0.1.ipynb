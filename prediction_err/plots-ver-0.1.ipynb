{
 "cells": [
  {
   "cell_type": "markdown",
   "metadata": {},
   "source": [
    "## Graphs"
   ]
  },
  {
   "cell_type": "code",
   "execution_count": 6,
   "metadata": {
    "collapsed": false
   },
   "outputs": [],
   "source": [
    "import pandas as pd\n",
    "import numpy as np\n",
    "import matplotlib.pyplot as plt\n",
    "#%matplotlib inline\n",
    "\n",
    "# Read CVS into pandas Object\n",
    "df = pd.read_csv(\"data/pred_on_LearnRate_depth-6_lrate-.05_est-300_.csv\")\n",
    "\n",
    "# Convert To Numpy\n",
    "errs = np.array(df)\n",
    "\n",
    "# Plot\n",
    "plt.title(\"R2 on Learning Rate - Depth=6, Alpha=1\")\n",
    "plt.xlabel(\"Learning Rate\")\n",
    "plt.ylabel(\"Accuracy\")\n",
    "plt.semilogy(errs[:,1],errs[:,2], color='blue', label=\"Train\")\n",
    "plt.semilogy(errs[:,1],errs[:,3], color='red', label=\"Test\")\n",
    "plt.legend(loc=0)\n",
    "plt.show()\n"
   ]
  },
  {
   "cell_type": "code",
   "execution_count": 29,
   "metadata": {
    "collapsed": false
   },
   "outputs": [
    {
     "name": "stdout",
     "output_type": "stream",
     "text": [
      "Index(['0', '2', '3', '4', '234', '023', '01234'], dtype='object')\n"
     ]
    }
   ],
   "source": [
    "import pandas as pd\n",
    "import numpy as np\n",
    "import matplotlib.pyplot as plt\n",
    "#%matplotlib inline\n",
    "\n",
    "\n",
    "# Read CVS into pandas Object\n",
    "df = pd.read_csv(\"data/err_rates_edited_3.csv\")\n",
    "\n",
    "\n",
    "print(df.columns)\n",
    "\n",
    "\n",
    "figure = df.plot.bar(title=\"R2 Score Feature Comparison Train/Test Data\")\n",
    "figure.set(xlabel=\"Train Data                                        Test Data\", \n",
    "           ylabel=\"R2 Score (Higher Is More Accurate)\")\n",
    "plt.show()\n"
   ]
  }
 ],
 "metadata": {
  "kernelspec": {
   "display_name": "Python 3",
   "language": "python",
   "name": "python3"
  },
  "language_info": {
   "codemirror_mode": {
    "name": "ipython",
    "version": 3
   },
   "file_extension": ".py",
   "mimetype": "text/x-python",
   "name": "python",
   "nbconvert_exporter": "python",
   "pygments_lexer": "ipython3",
   "version": "3.5.1"
  }
 },
 "nbformat": 4,
 "nbformat_minor": 0
}
